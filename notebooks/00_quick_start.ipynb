{
 "cells": [
  {
   "cell_type": "markdown",
   "id": "6987b4e3",
   "metadata": {},
   "source": [
    "# Quick Start Guide\n",
    "\n",
    "This notebook provides a quick introduction to AgentCore. We'll cover:\n",
    "1. Environment setup\n",
    "2. Basic usage\n",
    "3. Next steps\n",
    "\n",
    "## Getting Started\n",
    "First, let's verify our environment is set up correctly."
   ]
  },
  {
   "cell_type": "code",
   "execution_count": null,
   "id": "5658c358",
   "metadata": {},
   "outputs": [],
   "source": [
    "import sys\n",
    "import platform\n",
    "from dotenv import load_dotenv\n",
    "\n",
    "# Add project root to Python path\n",
    "sys.path.append('..')\n",
    "\n",
    "# Load environment variables\n",
    "load_dotenv()\n",
    "\n",
    "# Check Python version\n",
    "print(f\"Python version: {platform.python_version()}\")\n",
    "print(f\"Platform: {platform.platform()}\")\n",
    "print(f\"Architecture: {platform.machine()}\")"
   ]
  },
  {
   "cell_type": "markdown",
   "id": "539c7b10",
   "metadata": {},
   "source": [
    "## Next Steps\n",
    "1. Review the planning demo (01_agent_planning_demo.ipynb)\n",
    "2. Try the workflow demo (02_agent_workflow_demo.ipynb)\n",
    "3. Test the vector store (03_vector_store_test.ipynb)\n",
    "4. Run core tests (04_test_agent_core.ipynb)"
   ]
  }
 ],
 "metadata": {
  "kernelspec": {
   "display_name": "Python 3 (ipykernel)",
   "language": "python",
   "name": "python3"
  },
  "language_info": {
   "codemirror_mode": {
    "name": "ipython",
    "version": 3
   },
   "file_extension": ".py",
   "mimetype": "text/x-python",
   "name": "python",
   "nbconvert_exporter": "python",
   "pygments_lexer": "ipython3",
   "version": "3.11.12"
  }
 },
 "nbformat": 4,
 "nbformat_minor": 5
}
