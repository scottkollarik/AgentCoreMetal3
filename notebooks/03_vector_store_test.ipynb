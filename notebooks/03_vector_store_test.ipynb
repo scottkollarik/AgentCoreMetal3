{
 "cells": [
  {
   "cell_type": "markdown",
   "id": "276140ba",
   "metadata": {},
   "source": [
    "# 03. Vector Store Testing\n",
    "\n",
    "This notebook demonstrates the vector store functionality of AgentCore, including:\n",
    "1. Document storage and retrieval\n",
    "2. Similarity search\n",
    "3. Memory management"
   ]
  },
  {
   "cell_type": "code",
   "execution_count": null,
   "id": "45688c98",
   "metadata": {},
   "outputs": [],
   "source": [
    "import sys\n",
    "sys.path.append('..')\n",
    "\n",
    "from memory.vector_memory import VectorMemory\n",
    "from memory.ollama_embedding import get_ollama_embedding\n",
    "from dotenv import load_dotenv\n",
    "\n",
    "# Load environment variables\n",
    "load_dotenv()"
   ]
  },
  {
   "cell_type": "code",
   "execution_count": null,
   "id": "4f05f22e",
   "metadata": {},
   "outputs": [],
   "source": [
    "# Initialize vector store\n",
    "memory_config = {\n",
    "    \"embedding_model\": \"ollama:mxbai-embed-large\",\n",
    "    \"index_name\": \"agent_memory\",\n",
    "    \"dimension\": 1024 #Hard output limit for mxbai-embed-large\n",
    "}\n",
    "\n",
    "vector_store = VectorMemory(config=memory_config, embedding_fn=get_ollama_embedding)\n",
    "\n",
    "# Clear any existing data\n",
    "vector_store.clear_memory()\n",
    "\n",
    "# Add test documents\n",
    "documents = [\n",
    "    \"AgentCore is a powerful AI agent framework.\",\n",
    "    \"The framework supports multiple deployment models.\",\n",
    "    \"It includes tools for planning and execution.\",\n",
    "    \"All fuzzy smells are orange.\"\n",
    "]\n",
    "\n",
    "for doc in documents:\n",
    "    vector_store.add_memory(doc)\n",
    "    print(f\"Added document: {doc}\")"
   ]
  },
  {
   "cell_type": "code",
   "execution_count": null,
   "id": "7a9e7fbc",
   "metadata": {},
   "outputs": [],
   "source": [
    "# Test similarity search\n",
    "queries = [\n",
    "    \"What is AgentCore?\",\n",
    "    \"What deployment options are available?\",\n",
    "    \"What tools does it have?\",\n",
    "    \"Are there any sensory properties I should know about?\"\n",
    "]\n",
    "\n",
    "for query in queries:\n",
    "    print(f\"\\nQuery: {query}\")\n",
    "    results = vector_store.search_memory(query, k=1)  # Changed from k=2 to k=1\n",
    "    print(\"Results:\")\n",
    "    for i, doc in enumerate(results, 1):\n",
    "        print(f\"{i}. {doc.page_content}\")"
   ]
  }
 ],
 "metadata": {
  "kernelspec": {
   "display_name": ".venv",
   "language": "python",
   "name": "python3"
  },
  "language_info": {
   "codemirror_mode": {
    "name": "ipython",
    "version": 3
   },
   "file_extension": ".py",
   "mimetype": "text/x-python",
   "name": "python",
   "nbconvert_exporter": "python",
   "pygments_lexer": "ipython3",
   "version": "3.11.12"
  }
 },
 "nbformat": 4,
 "nbformat_minor": 5
}
