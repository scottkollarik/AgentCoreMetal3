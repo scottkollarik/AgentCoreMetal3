{
 "cells": [
  {
   "cell_type": "markdown",
   "id": "e655f875",
   "metadata": {},
   "source": [
    "# 04. AgentCore Core Testing\n",
    "\n",
    "This notebook provides comprehensive testing of AgentCore's core functionality, including:\n",
    "1. Environment and dependency verification\n",
    "2. Component integration testing\n",
    "3. Error handling and recovery\n",
    "4. Performance monitoring"
   ]
  },
  {
   "cell_type": "code",
   "execution_count": null,
   "id": "1cbe0f59",
   "metadata": {},
   "outputs": [],
   "source": [
    "import sys\n",
    "import os\n",
    "import platform\n",
    "import time\n",
    "from dotenv import load_dotenv\n",
    "\n",
    "# Add project root to Python path\n",
    "sys.path.append('..')\n",
    "\n",
    "# Load environment variables\n",
    "load_dotenv()"
   ]
  },
  {
   "cell_type": "code",
   "execution_count": null,
   "id": "1f142d66",
   "metadata": {},
   "outputs": [],
   "source": [
    "# Verify environment\n",
    "print(\"System Information:\")\n",
    "print(f\"Python version: {platform.python_version()}\")\n",
    "print(f\"Platform: {platform.platform()}\")\n",
    "print(f\"Architecture: {platform.machine()}\")\n",
    "\n",
    "print(\"\\nRequired Environment Variables:\")\n",
    "required_vars = ['OPENAI_API_KEY', 'CHROMA_SERVER']\n",
    "for var in required_vars:\n",
    "    value = os.getenv(var)\n",
    "    status = \"✓\" if value else \"✗\"\n",
    "    print(f\"{status} {var}\")"
   ]
  },
  {
   "cell_type": "code",
   "execution_count": null,
   "id": "71b0547b",
   "metadata": {},
   "outputs": [],
   "source": [
    "# Test component initialization\n",
    "from agents.planning_agent import PlanningAgent\n",
    "from agents.execution_agent import ExecutionAgent\n",
    "from utils.vector_memory import VectorMemory\n",
    "from utils.tool_orchestrator import ToolOrchestrator\n",
    "\n",
    "components = {\n",
    "    \"Planning Agent\": PlanningAgent(),\n",
    "    \"Execution Agent\": ExecutionAgent(),\n",
    "    \"Vector Memory\": VectorMemory(),\n",
    "    \"Tool Orchestrator\": ToolOrchestrator()\n",
    "}\n",
    "\n",
    "print(\"Component Initialization:\")\n",
    "for name, component in components.items():\n",
    "    print(f\"✓ {name} initialized successfully\")"
   ]
  }
 ],
 "metadata": {},
 "nbformat": 4,
 "nbformat_minor": 5
}
